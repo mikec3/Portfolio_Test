{
 "cells": [
  {
   "cell_type": "code",
   "execution_count": 1,
   "metadata": {},
   "outputs": [],
   "source": [
    "#Example of how to start using google bigquery\n",
    "#json credential file used below is created at the google cloud platform console\n",
    "#     Create Service Account, set role as owner, download json key file, link to that file below\n",
    "#michaelcouch ~ % pip install google-cloud-bigquery\n",
    "#michaelcouch ~% pip install pandas\n",
    "#michaelcouch ~% pip install plotly==4.8.1\n",
    "#michaelcouch ~% pip install plotly-geo     # Used for county level choropleth map\n",
    "#virtuanenvname ~% pip install --user ipykernel\n",
    "#virtualenvname ~% python -m ipykernel install --user --name=virtualevnname\n",
    "#In jupyter notebook select vitualenvname as kernel\n",
    "\n",
    "#Used for county level choropleth\n",
    "#$ pip install geopandas==0.3.0\n",
    "#$ pip install pyshp==1.2.10\n",
    "#$ pip install shapely==1.6.3\n",
    "\n",
    "import pandas as pd\n",
    "import os \n",
    "os.environ[\"GOOGLE_APPLICATION_CREDENTIALS\"] = \"/Users/michaelcouch/Documents/Data_Analytics/VirtualEnvZone/TestVenv1/dev-smoke-278920-cb67e104d184.json\"\n",
    "# The below lines allow for file paths to be shared on localhost and pythonanywhere server __file__ is a python majic variable \n",
    "#THIS_FOLDER = os.path.dirname(os.path.abspath(__file__))\n",
    "#my_file = os.path.join(THIS_FOLDER,\"../dev-smoke-278920-cb67e104d184.json\")\n",
    "#os.environ['GOOGLE_APPLICATION_CREDENTIALS'] = my_file\n",
    "\n",
    "from google.cloud import bigquery\n",
    "client = bigquery.Client()"
   ]
  },
  {
   "cell_type": "code",
   "execution_count": 2,
   "metadata": {},
   "outputs": [],
   "source": [
    "import pandas as pd\n",
    "from random import random\n",
    "import plotly.graph_objects as go\n",
    "from plotly.offline import plot\n",
    "import plotly.figure_factory as ff # For County level Choropleth Map"
   ]
  },
  {
   "cell_type": "code",
   "execution_count": 4,
   "metadata": {},
   "outputs": [
    {
     "data": {
      "text/html": [
       "<div>\n",
       "<style scoped>\n",
       "    .dataframe tbody tr th:only-of-type {\n",
       "        vertical-align: middle;\n",
       "    }\n",
       "\n",
       "    .dataframe tbody tr th {\n",
       "        vertical-align: top;\n",
       "    }\n",
       "\n",
       "    .dataframe thead th {\n",
       "        text-align: right;\n",
       "    }\n",
       "</style>\n",
       "<table border=\"1\" class=\"dataframe\">\n",
       "  <thead>\n",
       "    <tr style=\"text-align: right;\">\n",
       "      <th></th>\n",
       "      <th>State</th>\n",
       "      <th>Initial</th>\n",
       "      <th>Population</th>\n",
       "    </tr>\n",
       "  </thead>\n",
       "  <tbody>\n",
       "    <tr>\n",
       "      <th>0</th>\n",
       "      <td>Alabama</td>\n",
       "      <td>AL</td>\n",
       "      <td>4903185</td>\n",
       "    </tr>\n",
       "    <tr>\n",
       "      <th>1</th>\n",
       "      <td>Alaska</td>\n",
       "      <td>AK</td>\n",
       "      <td>731545</td>\n",
       "    </tr>\n",
       "    <tr>\n",
       "      <th>2</th>\n",
       "      <td>Arizona</td>\n",
       "      <td>AZ</td>\n",
       "      <td>7278717</td>\n",
       "    </tr>\n",
       "    <tr>\n",
       "      <th>3</th>\n",
       "      <td>Arkansas</td>\n",
       "      <td>AR</td>\n",
       "      <td>3017804</td>\n",
       "    </tr>\n",
       "    <tr>\n",
       "      <th>4</th>\n",
       "      <td>California</td>\n",
       "      <td>CA</td>\n",
       "      <td>39512223</td>\n",
       "    </tr>\n",
       "  </tbody>\n",
       "</table>\n",
       "</div>"
      ],
      "text/plain": [
       "        State Initial  Population\n",
       "0     Alabama      AL     4903185\n",
       "1      Alaska      AK      731545\n",
       "2     Arizona      AZ     7278717\n",
       "3    Arkansas      AR     3017804\n",
       "4  California      CA    39512223"
      ]
     },
     "execution_count": 4,
     "metadata": {},
     "output_type": "execute_result"
    }
   ],
   "source": [
    "query=\"\"\"select * FROM dev-smoke-278920.COVID_TEST_DATASET.2019_State_Census_Population\n",
    "    \"\"\"\n",
    "query_job = client.query(query)\n",
    "casesDf=query_job.to_dataframe()\n",
    "casesDf.head()"
   ]
  },
  {
   "cell_type": "code",
   "execution_count": null,
   "metadata": {},
   "outputs": [],
   "source": []
  }
 ],
 "metadata": {
  "kernelspec": {
   "display_name": "TestVirtualEnv1",
   "language": "python",
   "name": "testvirtualenv1"
  },
  "language_info": {
   "codemirror_mode": {
    "name": "ipython",
    "version": 2
   },
   "file_extension": ".py",
   "mimetype": "text/x-python",
   "name": "python",
   "nbconvert_exporter": "python",
   "pygments_lexer": "ipython2",
   "version": "2.7.16"
  }
 },
 "nbformat": 4,
 "nbformat_minor": 2
}
